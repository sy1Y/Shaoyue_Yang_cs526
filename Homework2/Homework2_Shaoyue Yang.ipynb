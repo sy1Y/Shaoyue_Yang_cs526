{
  "nbformat": 4,
  "nbformat_minor": 0,
  "metadata": {
    "colab": {
      "provenance": []
    },
    "kernelspec": {
      "name": "python3",
      "display_name": "Python 3"
    },
    "language_info": {
      "name": "python"
    }
  },
  "cells": [
    {
      "cell_type": "code",
      "execution_count": 6,
      "metadata": {
        "colab": {
          "base_uri": "https://localhost:8080/"
        },
        "collapsed": true,
        "id": "IaJRMdY9bQQx",
        "outputId": "522da788-f2db-4a2d-bb18-40237f5a26c4"
      },
      "outputs": [
        {
          "output_type": "stream",
          "name": "stdout",
          "text": [
            "2\n",
            "5\n",
            "3\n",
            "12\n",
            "doIt(1) = 1\n",
            "doIt(3) = 2\n",
            "doIt(6) = 4\n",
            "The sum of the three middle nodes is 33\n"
          ]
        }
      ],
      "source": [
        "#Problem2\n",
        "class list_node:\n",
        "  def __init__(self, val):\n",
        "    self.val = val\n",
        "    self.next = None\n",
        "def doIt(node):\n",
        "  if node is None:\n",
        "    return\n",
        "  doIt(node.next)\n",
        "  print(node.val)\n",
        "numbers = [12, 3, 5, 2]\n",
        "head = list_node(numbers[0])\n",
        "current = head\n",
        "for val in numbers[1:]:\n",
        "  current.next = list_node(val)\n",
        "  current = current.next\n",
        "doIt(head)\n",
        "''' output:2\n",
        "      5\n",
        "      3\n",
        "      12 '''\n",
        "#Problem3\n",
        "def doIt(n):\n",
        "  if n == 0:\n",
        "    return 1\n",
        "  elif n == 1:\n",
        "    return 1\n",
        "  elif n == 2:\n",
        "    return 2\n",
        "  else:\n",
        "    return doIt(n-1) + doIt(n-2) - doIt(n-3)\n",
        "print(f\"doIt(1) = {doIt(1)}\")\n",
        "print(f\"doIt(3) = {doIt(3)}\")\n",
        "print(f\"doIt(6) = {doIt(6)}\")\n",
        "#Problem4\n",
        "def mid_sum(head):\n",
        "  values = []\n",
        "  current = head\n",
        "  while current is not None:\n",
        "    values.append(current.val)\n",
        "    current = current.next\n",
        "  n = len(values)\n",
        "  mid = n // 2\n",
        "  return values[mid-1] + values[mid] + values[mid+1]\n",
        "values = [2,4,8,10,15,29,41]\n",
        "new_head = list_node(values[0])\n",
        "new_current = new_head\n",
        "for i in range(1, len(values)):\n",
        "  new_current.next = list_node(values[i])\n",
        "  new_current = new_current.next\n",
        "print(\"The sum of the three middle nodes is\",mid_sum(new_head))"
      ]
    }
  ]
}